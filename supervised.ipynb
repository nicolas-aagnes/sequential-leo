{
 "cells": [
  {
   "cell_type": "code",
   "execution_count": null,
   "metadata": {},
   "outputs": [],
   "source": [
    "%load_ext autoreload\n",
    "%autoreload 2"
   ]
  },
  {
   "cell_type": "code",
   "execution_count": null,
   "metadata": {},
   "outputs": [],
   "source": [
    "%matplotlib inline\n",
    "from matplotlib import pyplot as plt\n",
    "plt.style.use('seaborn-whitegrid')\n",
    "import numpy as np\n",
    "import torch\n",
    "from IPython import display\n",
    "\n",
    "from datasets import Dataset2D\n",
    "from leo import LSTMTheta"
   ]
  },
  {
   "cell_type": "code",
   "execution_count": null,
   "metadata": {},
   "outputs": [],
   "source": [
    "def plot(amplitude, phase, x_support, y_support, y_pred):\n",
    "    # Plot first sequence only.\n",
    "    # x has shape (num_tasks, num_support, num_frames, 2)\n",
    "    x_true = np.linspace(-5, 5, 1000)\n",
    "    y_true = amplitude * np.sin(x_true / phase)\n",
    "    \n",
    "    plt.figure(figsize=(15, 15))\n",
    "    plt.plot(x_true, y_true, color=\"black\")\n",
    "    plt.plot(x_support[0, 0, :, 0], x_support[0, 0, :, 1], \"ro\")\n",
    "    plt.scatter(y_support[0, 0, :, 0], y_support[0, 0, :, 1], facecolors='none', edgecolors='r')\n",
    "    plt.plot(y_pred[0, 0, :, 0], y_pred[0, 0, :, 1], \"go\")\n",
    "    plt.xlim((-6, 6))\n",
    "    plt.ylim((-5, 5))\n",
    "    plt.show()\n",
    "        "
   ]
  },
  {
   "cell_type": "code",
   "execution_count": null,
   "metadata": {},
   "outputs": [],
   "source": [
    "num_support, num_query, num_frames, horizon = 1, 1, 12, 7\n",
    "\n",
    "dataset = Dataset2D(num_support, num_query, num_frames, horizon, noise=0.0)\n",
    "\n",
    "batch_size = 32\n",
    "dataloader = torch.utils.data.DataLoader(\n",
    "    dataset=dataset,\n",
    "    batch_size=batch_size,\n",
    "    num_workers=0,\n",
    "    drop_last=False,\n",
    ")\n"
   ]
  },
  {
   "cell_type": "code",
   "execution_count": null,
   "metadata": {},
   "outputs": [],
   "source": [
    "lstm = LSTMTheta(2, 32, horizon)\n",
    "optimizer = torch.optim.Adam(lstm.parameters())\n",
    "criterion = torch.nn.MSELoss()\n",
    "\n",
    "num_training_tasks = 100000\n",
    "for i, task_batch in enumerate(dataloader):\n",
    "    x_support, y_support, _, _, (amplitude, phase) = task_batch\n",
    "\n",
    "    out = lstm(x_support.float())\n",
    "    loss = criterion(out, y_support.float())\n",
    "    \n",
    "    optimizer.zero_grad()\n",
    "    loss.backward()\n",
    "    optimizer.step()\n",
    "\n",
    "    if (i + 1) * batch_size > num_training_tasks:\n",
    "        break\n",
    "\n",
    "    if i % 10 == 0:\n",
    "        display.clear_output(wait=True)\n",
    "        plot(amplitude[0].item(), phase[0].item(), x_support, y_support, out.detach().numpy())\n",
    "        print(i, loss)\n"
   ]
  },
  {
   "cell_type": "code",
   "execution_count": null,
   "metadata": {},
   "outputs": [],
   "source": []
  },
  {
   "cell_type": "code",
   "execution_count": null,
   "metadata": {},
   "outputs": [],
   "source": []
  },
  {
   "cell_type": "code",
   "execution_count": null,
   "metadata": {},
   "outputs": [],
   "source": []
  }
 ],
 "metadata": {
  "interpreter": {
   "hash": "5526cef0f2beafd42cdc7fc832a51a04d29fb96c99f27e2398157171bc8dd373"
  },
  "kernelspec": {
   "display_name": "Python 3.7.9 64-bit ('.venv': venv)",
   "name": "python3"
  },
  "language_info": {
   "codemirror_mode": {
    "name": "ipython",
    "version": 3
   },
   "file_extension": ".py",
   "mimetype": "text/x-python",
   "name": "python",
   "nbconvert_exporter": "python",
   "pygments_lexer": "ipython3",
   "version": "3.7.9"
  },
  "orig_nbformat": 4
 },
 "nbformat": 4,
 "nbformat_minor": 2
}
