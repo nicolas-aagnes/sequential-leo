{
 "cells": [
  {
   "cell_type": "code",
   "execution_count": 1,
   "id": "d1b12b79",
   "metadata": {},
   "outputs": [],
   "source": [
    "from torch_batch_data import Human36M\n",
    "from visualize_example import plot_frame"
   ]
  },
  {
   "cell_type": "code",
   "execution_count": 2,
   "id": "7dfed88a",
   "metadata": {},
   "outputs": [
    {
     "data": {
      "text/plain": [
       "2"
      ]
     },
     "execution_count": 2,
     "metadata": {},
     "output_type": "execute_result"
    }
   ],
   "source": [
    "1+1"
   ]
  },
  {
   "cell_type": "code",
   "execution_count": 3,
   "id": "e9612634",
   "metadata": {},
   "outputs": [],
   "source": [
    "dataset = Human36M(2, 1)"
   ]
  },
  {
   "cell_type": "code",
   "execution_count": 4,
   "id": "904bff85",
   "metadata": {},
   "outputs": [],
   "source": [
    "# for task in dataset:\n",
    "#     print(task)\n",
    "#     break"
   ]
  },
  {
   "cell_type": "code",
   "execution_count": 5,
   "id": "77a4dcb2",
   "metadata": {},
   "outputs": [],
   "source": [
    "example = next(iter(dataset))"
   ]
  },
  {
   "cell_type": "code",
   "execution_count": 6,
   "id": "3243c10a",
   "metadata": {},
   "outputs": [
    {
     "name": "stdout",
     "output_type": "stream",
     "text": [
      "(2, 50, 51)\n"
     ]
    }
   ],
   "source": [
    "print(example[0].shape)"
   ]
  },
  {
   "cell_type": "code",
   "execution_count": 7,
   "id": "17f7bb69",
   "metadata": {},
   "outputs": [
    {
     "name": "stdout",
     "output_type": "stream",
     "text": [
      "(2, 50, 51)\n"
     ]
    }
   ],
   "source": [
    "plot_ex = example[0]\n",
    "print(plot_ex.shape)"
   ]
  },
  {
   "cell_type": "code",
   "execution_count": 8,
   "id": "f7d35a07",
   "metadata": {},
   "outputs": [
    {
     "name": "stdout",
     "output_type": "stream",
     "text": [
      "Dictionary of Pose3D Data:  {'Pelvis': array([409.223, 897.092, 933.417], dtype=float32), 'RHip': array([524.3923 , 924.41003, 948.4338 ], dtype=float32), 'RKnee': array([491.95404, 922.082  , 521.38416], dtype=float32), 'RAnkle': array([482.645   , 856.3381  ,  83.950775], dtype=float32), 'LHip': array([294.05453, 869.7742 , 918.4003 ], dtype=float32), 'LKnee': array([267.0593, 981.8125, 505.9111], dtype=float32), 'LAnkle': array([349.10867, 717.0771 , 161.03442], dtype=float32), 'Spine1': array([ 354.857 ,  871.0028, 1149.478 ], dtype=float32), 'Neck': array([ 401.7554 ,  871.30963, 1399.1672 ], dtype=float32), 'Head': array([ 433.79428,  934.6492 , 1492.324  ], dtype=float32), 'Site': array([ 395.2946,  856.5841, 1567.479 ], dtype=float32), 'LShoulder': array([ 284.38715,  841.0737 , 1323.0947 ], dtype=float32), 'LElbow': array([ 199.56364,  800.43024, 1075.7928 ], dtype=float32), 'LWrist': array([154.76855, 864.91516, 839.89636], dtype=float32), 'RShoulder': array([ 515.75977,  906.5953 , 1320.2059 ], dtype=float32), 'RElbow': array([ 617.1127 ,  952.79565, 1080.2109 ], dtype=float32), 'RWrist': array([ 702.5492 , 1060.2515 ,  872.92865], dtype=float32)}\n"
     ]
    },
    {
     "data": {
      "image/png": "[encoded data removed]",
      "text/plain": [
       "<Figure size 432x288 with 1 Axes>"
      ]
     },
     "metadata": {},
     "output_type": "display_data"
    }
   ],
   "source": [
    "plot_frame(plot_ex[0][40].reshape(17, 3))"
   ]
  },
  {
   "cell_type": "code",
   "execution_count": 9,
   "id": "44cab25e",
   "metadata": {},
   "outputs": [
    {
     "name": "stdout",
     "output_type": "stream",
     "text": [
      "(2, 10, 51)\n"
     ]
    }
   ],
   "source": [
    "print(example[1].shape)"
   ]
  },
  {
   "cell_type": "code",
   "execution_count": 10,
   "id": "fd5d95df",
   "metadata": {},
   "outputs": [
    {
     "data": {
      "text/plain": [
       "array([[False, False, False],\n",
       "       [False, False, False],\n",
       "       [False, False, False],\n",
       "       [False, False, False],\n",
       "       [False, False, False],\n",
       "       [False, False, False],\n",
       "       [False, False, False],\n",
       "       [False, False, False],\n",
       "       [False, False, False],\n",
       "       [False, False, False],\n",
       "       [False, False, False],\n",
       "       [False, False, False],\n",
       "       [False, False, False],\n",
       "       [False, False, False],\n",
       "       [False, False, False],\n",
       "       [False, False, False],\n",
       "       [False, False, False]])"
      ]
     },
     "execution_count": 10,
     "metadata": {},
     "output_type": "execute_result"
    }
   ],
   "source": [
    "plot_ex[0][5].reshape(17, 3) == plot_ex[0][20].reshape(17, 3)"
   ]
  },
  {
   "cell_type": "code",
   "execution_count": null,
   "id": "5d50395d",
   "metadata": {},
   "outputs": [],
   "source": []
  }
 ],
 "metadata": {
  "kernelspec": {
   "display_name": "Python 3 (ipykernel)",
   "language": "python",
   "name": "python3"
  },
  "language_info": {
   "codemirror_mode": {
    "name": "ipython",
    "version": 3
   },
   "file_extension": ".py",
   "mimetype": "text/x-python",
   "name": "python",
   "nbconvert_exporter": "python",
   "pygments_lexer": "ipython3",
   "version": "3.9.7"
  }
 },
 "nbformat": 4,
 "nbformat_minor": 5
}
