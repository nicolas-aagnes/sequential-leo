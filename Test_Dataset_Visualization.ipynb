{
 "cells": [
  {
   "cell_type": "code",
   "execution_count": 5,
   "id": "d1b12b79",
   "metadata": {},
   "outputs": [],
   "source": [
    "from torch_batch_data import Human36M\n",
    "from visualize_example import plot_frame"
   ]
  },
  {
   "cell_type": "code",
   "execution_count": 6,
   "id": "7dfed88a",
   "metadata": {},
   "outputs": [
    {
     "data": {
      "text/plain": [
       "2"
      ]
     },
     "execution_count": 6,
     "metadata": {},
     "output_type": "execute_result"
    }
   ],
   "source": [
    "1+1"
   ]
  },
  {
   "cell_type": "code",
   "execution_count": 7,
   "id": "e9612634",
   "metadata": {},
   "outputs": [],
   "source": [
    "dataset = Human36M(2, 1)"
   ]
  },
  {
   "cell_type": "code",
   "execution_count": 8,
   "id": "904bff85",
   "metadata": {},
   "outputs": [],
   "source": [
    "# for task in dataset:\n",
    "#     print(task)\n",
    "#     break"
   ]
  },
  {
   "cell_type": "code",
   "execution_count": 9,
   "id": "77a4dcb2",
   "metadata": {},
   "outputs": [],
   "source": [
    "example = next(iter(dataset))"
   ]
  },
  {
   "cell_type": "code",
   "execution_count": 15,
   "id": "f73961a1",
   "metadata": {},
   "outputs": [
    {
     "name": "stdout",
     "output_type": "stream",
     "text": [
      "(2, 50, 51)\n"
     ]
    }
   ],
   "source": [
    "print(example[0].shape)"
   ]
  },
  {
   "cell_type": "code",
   "execution_count": 16,
   "id": "90670ce0",
   "metadata": {},
   "outputs": [
    {
     "name": "stdout",
     "output_type": "stream",
     "text": [
      "(2, 50, 51)\n"
     ]
    }
   ],
   "source": [
    "plot_ex = example[0]\n",
    "print(plot_ex.shape)"
   ]
  },
  {
   "cell_type": "code",
   "execution_count": 19,
   "id": "0bf86af5",
   "metadata": {},
   "outputs": [
    {
     "name": "stdout",
     "output_type": "stream",
     "text": [
      "Dictionary of Pose3D Data:  {'Pelvis': array([  40.5322, -320.354 ,  911.617 ], dtype=float32), 'RHip': array([ -68.765205, -272.64236 ,  915.28015 ], dtype=float32), 'RKnee': array([ -51.074707, -264.5223  ,  487.43655 ], dtype=float32), 'RAnkle': array([-20.246935, -18.000496, 121.33069 ], dtype=float32), 'LHip': array([ 149.82883, -368.0653 ,  907.95386], dtype=float32), 'LKnee': array([ 135.72989, -483.7075 ,  495.81696], dtype=float32), 'LAnkle': array([ 198.05737 , -461.5384  ,   58.346188], dtype=float32), 'Spine1': array([  90.768  , -345.16238, 1128.8245 ], dtype=float32), 'Neck': array([  62.064434, -330.73248 , 1380.8406  ], dtype=float32), 'Head': array([ -18.01548, -362.6475 , 1460.1199 ], dtype=float32), 'Site': array([  53.357697, -349.03378 , 1549.2557  ], dtype=float32), 'LShoulder': array([ 169.78549, -380.20233, 1300.6818 ], dtype=float32), 'LElbow': array([ 241.10226, -388.7631 , 1046.0334 ], dtype=float32), 'LWrist': array([ 246.41765, -436.75595,  802.1472 ], dtype=float32), 'RShoulder': array([ -41.901173, -268.01932 , 1305.1097  ], dtype=float32), 'RElbow': array([-138.85442, -211.39484, 1065.5304 ], dtype=float32), 'RWrist': array([-287.58282, -262.77798,  873.04224], dtype=float32)}\n"
     ]
    },
    {
     "data": {
      "image/png": "[encoded data removed]",
      "text/plain": [
       "<Figure size 432x288 with 1 Axes>"
      ]
     },
     "metadata": {},
     "output_type": "display_data"
    }
   ],
   "source": [
    "plot_frame(plot_ex[0][40].reshape(17, 3))"
   ]
  },
  {
   "cell_type": "code",
   "execution_count": 20,
   "id": "3a9a40c5",
   "metadata": {},
   "outputs": [
    {
     "name": "stdout",
     "output_type": "stream",
     "text": [
      "(2, 10, 51)\n"
     ]
    }
   ],
   "source": [
    "print(example[1].shape)"
   ]
  },
  {
   "cell_type": "code",
   "execution_count": 21,
   "id": "6684c37a",
   "metadata": {},
   "outputs": [
    {
     "data": {
      "text/plain": [
       "array([[False, False, False],\n",
       "       [False, False, False],\n",
       "       [False, False, False],\n",
       "       [False, False, False],\n",
       "       [False, False, False],\n",
       "       [False, False, False],\n",
       "       [False, False, False],\n",
       "       [False, False, False],\n",
       "       [False, False, False],\n",
       "       [False, False, False],\n",
       "       [False, False, False],\n",
       "       [False, False, False],\n",
       "       [False, False, False],\n",
       "       [False, False, False],\n",
       "       [False, False, False],\n",
       "       [False, False, False],\n",
       "       [False, False, False]])"
      ]
     },
     "execution_count": 21,
     "metadata": {},
     "output_type": "execute_result"
    }
   ],
   "source": [
    "plot_ex[0][5].reshape(17, 3) == plot_ex[0][20].reshape(17, 3)"
   ]
  },
  {
   "cell_type": "code",
   "execution_count": null,
   "id": "48495789",
   "metadata": {},
   "outputs": [],
   "source": []
  }
 ],
 "metadata": {
  "kernelspec": {
   "display_name": "Python 3 (ipykernel)",
   "language": "python",
   "name": "python3"
  },
  "language_info": {
   "codemirror_mode": {
    "name": "ipython",
    "version": 3
   },
   "file_extension": ".py",
   "mimetype": "text/x-python",
   "name": "python",
   "nbconvert_exporter": "python",
   "pygments_lexer": "ipython3",
   "version": "3.9.7"
  }
 },
 "nbformat": 4,
 "nbformat_minor": 5
}
