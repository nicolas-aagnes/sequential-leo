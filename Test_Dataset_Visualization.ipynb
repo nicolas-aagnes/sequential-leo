{
 "cells": [
  {
   "cell_type": "code",
   "execution_count": 16,
   "id": "d1b12b79",
   "metadata": {},
   "outputs": [],
   "source": [
    "from torch_batch_data import Human36M\n",
    "from visualize_example import plot_frame\n",
    "import numpy as np"
   ]
  },
  {
   "cell_type": "code",
   "execution_count": 2,
   "id": "7dfed88a",
   "metadata": {},
   "outputs": [
    {
     "data": {
      "text/plain": [
       "2"
      ]
     },
     "execution_count": 2,
     "metadata": {},
     "output_type": "execute_result"
    }
   ],
   "source": [
    "1+1"
   ]
  },
  {
   "cell_type": "code",
   "execution_count": 3,
   "id": "e9612634",
   "metadata": {},
   "outputs": [],
   "source": [
    "dataset = Human36M(2, 1)"
   ]
  },
  {
   "cell_type": "code",
   "execution_count": 4,
   "id": "904bff85",
   "metadata": {},
   "outputs": [],
   "source": [
    "# for task in dataset:\n",
    "#     print(task)\n",
    "#     break"
   ]
  },
  {
   "cell_type": "code",
   "execution_count": 5,
   "id": "77a4dcb2",
   "metadata": {},
   "outputs": [],
   "source": [
    "example = next(iter(dataset))"
   ]
  },
  {
   "cell_type": "code",
   "execution_count": 6,
   "id": "3243c10a",
   "metadata": {},
   "outputs": [
    {
     "name": "stdout",
     "output_type": "stream",
     "text": [
      "(2, 50, 51)\n"
     ]
    }
   ],
   "source": [
    "print(example[0].shape)"
   ]
  },
  {
   "cell_type": "code",
   "execution_count": 7,
   "id": "17f7bb69",
   "metadata": {},
   "outputs": [
    {
     "name": "stdout",
     "output_type": "stream",
     "text": [
      "(2, 50, 51)\n"
     ]
    }
   ],
   "source": [
    "plot_ex = example[0]\n",
    "print(plot_ex.shape)"
   ]
  },
  {
   "cell_type": "code",
   "execution_count": 8,
   "id": "f7d35a07",
   "metadata": {},
   "outputs": [
    {
     "name": "stdout",
     "output_type": "stream",
     "text": [
      "Dictionary of Pose3D Data:  {'Pelvis': array([ 169.191, -175.703,  727.025], dtype=float32), 'RHip': array([  50.113476, -173.17587 ,  734.08887 ], dtype=float32), 'RKnee': array([  35.371593, -533.149   ,  502.5051  ], dtype=float32), 'RAnkle': array([  38.185757, -469.19507 ,   64.71654 ], dtype=float32), 'LHip': array([ 288.26767, -178.23012,  719.9612 ], dtype=float32), 'LKnee': array([ 320.8207 , -536.8692 ,  488.12708], dtype=float32), 'LAnkle': array([ 305.6989  , -480.0489  ,   49.607227], dtype=float32), 'Spine1': array([ 190.3739 , -217.82225,  946.3249 ], dtype=float32), 'Neck': array([ 163.96123, -236.14732, 1198.3384 ], dtype=float32), 'Head': array([ 176.86185, -340.72446, 1249.4634 ], dtype=float32), 'Site': array([ 171.47162, -298.26016, 1356.1986 ], dtype=float32), 'LShoulder': array([ 285.84442, -224.43153, 1124.2859 ], dtype=float32), 'LElbow': array([ 374.9254 , -227.18301,  875.1632 ], dtype=float32), 'LWrist': array([ 303.49017, -368.0145 ,  683.1331 ], dtype=float32), 'RShoulder': array([  40.78025, -228.2907 , 1125.939  ], dtype=float32), 'RElbow': array([ -74.25737, -230.63844,  887.6842 ], dtype=float32), 'RWrist': array([ -25.295483, -453.21555 ,  788.31494 ], dtype=float32)}\n"
     ]
    },
    {
     "data": {
      "image/png": "[encoded data removed]",
      "text/plain": [
       "<Figure size 432x288 with 1 Axes>"
      ]
     },
     "metadata": {},
     "output_type": "display_data"
    }
   ],
   "source": [
    "plot_frame(plot_ex[0][40].reshape(17, 3))"
   ]
  },
  {
   "cell_type": "code",
   "execution_count": 9,
   "id": "44cab25e",
   "metadata": {},
   "outputs": [
    {
     "name": "stdout",
     "output_type": "stream",
     "text": [
      "(2, 10, 51)\n"
     ]
    }
   ],
   "source": [
    "print(example[1].shape)"
   ]
  },
  {
   "cell_type": "code",
   "execution_count": 10,
   "id": "fd5d95df",
   "metadata": {},
   "outputs": [
    {
     "data": {
      "text/plain": [
       "array([[False, False, False],\n",
       "       [False, False, False],\n",
       "       [False, False, False],\n",
       "       [False, False, False],\n",
       "       [False, False, False],\n",
       "       [False, False, False],\n",
       "       [False, False, False],\n",
       "       [False, False, False],\n",
       "       [False, False, False],\n",
       "       [False, False, False],\n",
       "       [False, False, False],\n",
       "       [False, False, False],\n",
       "       [False, False, False],\n",
       "       [False, False, False],\n",
       "       [False, False, False],\n",
       "       [False, False, False],\n",
       "       [False, False, False]])"
      ]
     },
     "execution_count": 10,
     "metadata": {},
     "output_type": "execute_result"
    }
   ],
   "source": [
    "plot_ex[0][5].reshape(17, 3) == plot_ex[0][20].reshape(17, 3)"
   ]
  },
  {
   "cell_type": "code",
   "execution_count": 17,
   "id": "43a187a6",
   "metadata": {},
   "outputs": [],
   "source": [
    "def compute_similarity_transform(X, Y, compute_optimal_scale=False):\n",
    "  \"\"\"\n",
    "  A port of MATLAB's `procrustes` function to Numpy.\n",
    "  Adapted from http://stackoverflow.com/a/18927641/1884420\n",
    "  Args\n",
    "    X: array NxM of targets, with N number of points and M point dimensionality\n",
    "    Y: array NxM of inputs\n",
    "    compute_optimal_scale: whether we compute optimal scale or force it to be 1\n",
    "  Returns:\n",
    "    d: squared error after transformation\n",
    "    Z: transformed Y\n",
    "    T: computed rotation\n",
    "    b: scaling\n",
    "    c: translation\n",
    "  \"\"\"\n",
    "\n",
    "  muX = X.mean(0)\n",
    "  muY = Y.mean(0)\n",
    "\n",
    "  X0 = X - muX\n",
    "  Y0 = Y - muY\n",
    "\n",
    "  ssX = (X0**2.).sum()\n",
    "  ssY = (Y0**2.).sum()\n",
    "\n",
    "  # centred Frobenius norm\n",
    "  normX = np.sqrt(ssX)\n",
    "  normY = np.sqrt(ssY)\n",
    "\n",
    "  # scale to equal (unit) norm\n",
    "  X0 = X0 / normX\n",
    "  Y0 = Y0 / normY\n",
    "\n",
    "  # optimum rotation matrix of Y\n",
    "  A = np.dot(X0.T, Y0)\n",
    "  U,s,Vt = np.linalg.svd(A,full_matrices=False)\n",
    "  V = Vt.T\n",
    "  T = np.dot(V, U.T)\n",
    "\n",
    "  # Make sure we have a rotation\n",
    "  detT = np.linalg.det(T)\n",
    "  V[:,-1] *= np.sign( detT )\n",
    "  s[-1]   *= np.sign( detT )\n",
    "  T = np.dot(V, U.T)\n",
    "\n",
    "  traceTA = s.sum()\n",
    "\n",
    "  if compute_optimal_scale:  # Compute optimum scaling of Y.\n",
    "    b = traceTA * normX / normY\n",
    "    d = 1 - traceTA**2\n",
    "    Z = normX*traceTA*np.dot(Y0, T) + muX\n",
    "  else:  # If no scaling allowed\n",
    "    b = 1\n",
    "    d = 1 + ssY/ssX - 2 * traceTA * normY / normX\n",
    "    Z = normY*np.dot(Y0, T) + muX\n",
    "\n",
    "  c = muX - b*np.dot(muY, T)\n",
    "\n",
    "  return d, Z, T, b, c"
   ]
  },
  {
   "cell_type": "code",
   "execution_count": 21,
   "id": "5d50395d",
   "metadata": {},
   "outputs": [
    {
     "name": "stdout",
     "output_type": "stream",
     "text": [
      "(10, 17, 3)\n"
     ]
    }
   ],
   "source": [
    "test_example = example[1][0].reshape((10, 17, 3))\n",
    "print(test_example.shape)\n",
    "d, Z, T, b, c = compute_similarity_transform(test_example[1], test_example[0])"
   ]
  },
  {
   "cell_type": "code",
   "execution_count": 24,
   "id": "ba3c6584",
   "metadata": {},
   "outputs": [
    {
     "name": "stdout",
     "output_type": "stream",
     "text": [
      "[[ 173.435    -171.68      724.008   ]\n",
      " [  54.40056  -170.36113   732.0581  ]\n",
      " [  33.173183 -531.66266   503.06104 ]\n",
      " [  38.14502  -469.69687    65.0058  ]\n",
      " [ 292.4686   -172.99886   715.95795 ]\n",
      " [ 320.52673  -534.35016   487.77664 ]\n",
      " [ 304.9072   -480.3496     48.91809 ]\n",
      " [ 186.93733  -197.58617   946.41    ]\n",
      " [ 173.19972  -205.2052   1199.9794  ]\n",
      " [ 179.77318  -311.25067  1249.2512  ]\n",
      " [ 170.95155  -267.01074  1355.0325  ]\n",
      " [ 293.30518  -196.86652  1122.6381  ]\n",
      " [ 378.90753  -222.16437   873.565   ]\n",
      " [ 309.16425  -365.64972   682.8823  ]\n",
      " [  46.276966 -203.2863   1133.9197  ]\n",
      " [-103.015854 -290.251     933.5368  ]\n",
      " [  13.29765  -508.28098   960.8533  ]]\n"
     ]
    }
   ],
   "source": [
    "print(test_example[0])"
   ]
  },
  {
   "cell_type": "code",
   "execution_count": 25,
   "id": "eb4d784e",
   "metadata": {},
   "outputs": [
    {
     "name": "stdout",
     "output_type": "stream",
     "text": [
      "[[ 172.44647  -171.63655   724.76025 ]\n",
      " [  53.42531  -171.33109   733.10364 ]\n",
      " [  34.736786 -533.04504   504.5368  ]\n",
      " [  38.095917 -471.5052     66.40619 ]\n",
      " [ 291.4668   -171.942     716.417   ]\n",
      " [ 322.06427  -533.28174   488.54398 ]\n",
      " [ 304.89923  -479.88446    49.669373]\n",
      " [ 186.71925  -197.18909   947.155   ]\n",
      " [ 173.673    -204.65588  1200.7655  ]\n",
      " [ 181.27841  -310.5885   1250.1316  ]\n",
      " [ 172.3381   -266.31335  1355.8881  ]\n",
      " [ 293.5113   -195.3687   1123.1184  ]\n",
      " [ 378.7132   -220.1958    873.8608  ]\n",
      " [ 309.73462  -364.4775    683.5011  ]\n",
      " [  46.575912 -203.897    1135.0182  ]\n",
      " [-102.45834  -292.35345   935.0963  ]\n",
      " [  15.790314 -509.34763   962.35223 ]]\n"
     ]
    }
   ],
   "source": [
    "print(Z)"
   ]
  },
  {
   "cell_type": "code",
   "execution_count": null,
   "id": "061c90f0",
   "metadata": {},
   "outputs": [],
   "source": []
  }
 ],
 "metadata": {
  "kernelspec": {
   "display_name": "Python 3 (ipykernel)",
   "language": "python",
   "name": "python3"
  },
  "language_info": {
   "codemirror_mode": {
    "name": "ipython",
    "version": 3
   },
   "file_extension": ".py",
   "mimetype": "text/x-python",
   "name": "python",
   "nbconvert_exporter": "python",
   "pygments_lexer": "ipython3",
   "version": "3.9.7"
  }
 },
 "nbformat": 4,
 "nbformat_minor": 5
}
