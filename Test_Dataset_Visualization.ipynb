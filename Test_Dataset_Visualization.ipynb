{
 "cells": [
  {
   "cell_type": "code",
   "execution_count": 1,
   "id": "d1b12b79",
   "metadata": {},
   "outputs": [],
   "source": [
    "from torch_batch_data import Human36M"
   ]
  },
  {
   "cell_type": "code",
   "execution_count": 2,
   "id": "7dfed88a",
   "metadata": {},
   "outputs": [
    {
     "data": {
      "text/plain": [
       "2"
      ]
     },
     "execution_count": 2,
     "metadata": {},
     "output_type": "execute_result"
    }
   ],
   "source": [
    "1+1"
   ]
  },
  {
   "cell_type": "code",
   "execution_count": 3,
   "id": "e9612634",
   "metadata": {},
   "outputs": [],
   "source": [
    "dataset = Human36M(2, 1)"
   ]
  },
  {
   "cell_type": "code",
   "execution_count": 4,
   "id": "904bff85",
   "metadata": {},
   "outputs": [],
   "source": [
    "# for task in dataset:\n",
    "#     print(task)\n",
    "#     break"
   ]
  },
  {
   "cell_type": "code",
   "execution_count": 5,
   "id": "77a4dcb2",
   "metadata": {},
   "outputs": [],
   "source": [
    "example = next(iter(dataset))"
   ]
  },
  {
   "cell_type": "code",
   "execution_count": 6,
   "id": "0f8e6b35",
   "metadata": {},
   "outputs": [],
   "source": [
    "from visualize_example import plot_frame"
   ]
  },
  {
   "cell_type": "code",
   "execution_count": 7,
   "id": "a950fe4c",
   "metadata": {},
   "outputs": [
    {
     "name": "stdout",
     "output_type": "stream",
     "text": [
      "(2, 50, 51)\n"
     ]
    }
   ],
   "source": [
    "plot_ex = example[0]\n",
    "print(plot_ex.shape)"
   ]
  },
  {
   "cell_type": "code",
   "execution_count": 8,
   "id": "1a6cb861",
   "metadata": {},
   "outputs": [
    {
     "name": "stdout",
     "output_type": "stream",
     "text": [
      "Dictionary of Pose3D Data:  {'Pelvis': array([ 330.96 , 1174.36 ,  923.558], dtype=float32), 'RHip': array([ 366.8569 , 1287.2991 ,  937.41144], dtype=float32), 'RKnee': array([ 430.57782, 1258.8251 ,  514.8503 ], dtype=float32), 'RAnkle': array([ 595.41595, 1210.6263 ,  107.09776], dtype=float32), 'LHip': array([ 295.06335, 1061.4218 ,  909.70465], dtype=float32), 'LKnee': array([ 214.69717, 1080.1399 ,  489.44327], dtype=float32), 'LAnkle': array([ 169.59991 , 1100.9349  ,   49.794926], dtype=float32), 'Spine1': array([ 361.1249, 1118.7551, 1138.768 ], dtype=float32), 'Neck': array([ 358.23743, 1168.9899 , 1387.7908 ], dtype=float32), 'Head': array([ 255.48837, 1143.5406 , 1437.906  ], dtype=float32), 'Site': array([ 294.10162, 1154.9374 , 1545.627  ], dtype=float32), 'LShoulder': array([ 316.52924, 1046.9565 , 1325.7839 ], dtype=float32), 'LElbow': array([ 179.629 , 1067.984 , 1100.3481], dtype=float32), 'LWrist': array([ 281.91238, 1285.4912 , 1036.7806 ], dtype=float32), 'RShoulder': array([ 378.50043, 1277.9271 , 1297.2423 ], dtype=float32), 'RElbow': array([ 300.3614, 1337.6143, 1051.6079], dtype=float32), 'RWrist': array([ 223.34848, 1363.3615 , 1286.5934 ], dtype=float32)}\n"
     ]
    },
    {
     "data": {
      "image/png": "[encoded data removed]",
      "text/plain": [
       "<Figure size 432x288 with 1 Axes>"
      ]
     },
     "metadata": {},
     "output_type": "display_data"
    }
   ],
   "source": [
    "plot_frame(plot_ex[0][5].reshape(17, 3))"
   ]
  },
  {
   "cell_type": "code",
   "execution_count": 9,
   "id": "77c08699",
   "metadata": {},
   "outputs": [
    {
     "name": "stdout",
     "output_type": "stream",
     "text": [
      "(2, 10, 51)\n"
     ]
    }
   ],
   "source": [
    "print(example[1].shape)"
   ]
  },
  {
   "cell_type": "code",
   "execution_count": 10,
   "id": "e6ee1fe1",
   "metadata": {},
   "outputs": [
    {
     "data": {
      "text/plain": [
       "array([[False, False, False],\n",
       "       [False, False, False],\n",
       "       [False, False, False],\n",
       "       [False, False, False],\n",
       "       [False, False, False],\n",
       "       [False, False, False],\n",
       "       [False, False, False],\n",
       "       [False, False, False],\n",
       "       [False, False, False],\n",
       "       [False, False, False],\n",
       "       [False, False, False],\n",
       "       [False, False, False],\n",
       "       [False, False, False],\n",
       "       [False, False, False],\n",
       "       [False, False, False],\n",
       "       [False, False, False],\n",
       "       [False, False, False]])"
      ]
     },
     "execution_count": 10,
     "metadata": {},
     "output_type": "execute_result"
    }
   ],
   "source": [
    "plot_ex[0][5].reshape(17, 3) == plot_ex[0][20].reshape(17, 3)"
   ]
  },
  {
   "cell_type": "code",
   "execution_count": null,
   "id": "af2cb518",
   "metadata": {},
   "outputs": [],
   "source": []
  }
 ],
 "metadata": {
  "kernelspec": {
   "display_name": "Python 3 (ipykernel)",
   "language": "python",
   "name": "python3"
  },
  "language_info": {
   "codemirror_mode": {
    "name": "ipython",
    "version": 3
   },
   "file_extension": ".py",
   "mimetype": "text/x-python",
   "name": "python",
   "nbconvert_exporter": "python",
   "pygments_lexer": "ipython3",
   "version": "3.9.7"
  }
 },
 "nbformat": 4,
 "nbformat_minor": 5
}
