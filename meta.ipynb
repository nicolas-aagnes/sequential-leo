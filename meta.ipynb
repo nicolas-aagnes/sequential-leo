{
 "cells": [
  {
   "cell_type": "code",
   "execution_count": null,
   "metadata": {},
   "outputs": [],
   "source": [
    "# If running in google colab run this cell as well\n",
    "# ! git clone https://github.com/nicolas-aagnes/sequential-leo.git\n",
    "# %cd sequential-leo\n",
    "# ! git pull origin\n",
    "# ! git checkout leo2d"
   ]
  },
  {
   "cell_type": "code",
   "execution_count": null,
   "metadata": {},
   "outputs": [],
   "source": [
    "%load_ext autoreload\n",
    "%autoreload 2"
   ]
  },
  {
   "cell_type": "code",
   "execution_count": null,
   "metadata": {},
   "outputs": [],
   "source": [
    "%matplotlib inline\n",
    "from matplotlib import pyplot as plt\n",
    "plt.style.use('seaborn-whitegrid')\n",
    "import numpy as np\n",
    "import torch\n",
    "from IPython import display"
   ]
  },
  {
   "cell_type": "code",
   "execution_count": null,
   "metadata": {},
   "outputs": [],
   "source": [
    "import torch.utils.tensorboard as tensorboard\n",
    "import argparse\n",
    "from config import get_model_and_dataloaders\n",
    "from models.leo import LEO, LEOConfig"
   ]
  },
  {
   "cell_type": "code",
   "execution_count": null,
   "metadata": {},
   "outputs": [],
   "source": [
    "class Namespace:\n",
    "    def __init__(self, **kwargs):\n",
    "        self.__dict__.update(kwargs)\n",
    "\n",
    "args = Namespace(\n",
    "    model=\"leo\",\n",
    "    dataset=\"sine2D\",\n",
    "    num_support=1,\n",
    "    num_query=15,\n",
    "    num_timesteps=10,\n",
    "    num_timesteps_pred=4,\n",
    "    num_inner_steps=1,\n",
    "    inner_lr=0.4,\n",
    "    learn_inner_lr=False,\n",
    "    outer_lr=0.001,\n",
    "    batch_size=32,\n",
    "    num_train_tasks=10000,\n",
    "    num_val_tasks=32,\n",
    "    test=False,\n",
    "    log_dir=None,\n",
    "    checkpoint_step=-1,\n",
    "    noise=0.0,\n",
    "    delta=0.3,\n",
    ")"
   ]
  },
  {
   "cell_type": "code",
   "execution_count": null,
   "metadata": {},
   "outputs": [],
   "source": [
    "def plot(x_support, y_support, y_pred):\n",
    "    plt.figure(figsize=(5, 5))\n",
    "    plt.plot(x_support[0, 0, :, 0], x_support[0, 0, :, 1], \"ro\")\n",
    "    plt.scatter(y_support[0, 0, :, 0], y_support[0, 0, :, 1], facecolors='none', edgecolors='r')\n",
    "    plt.plot(y_pred[0, 0, :, 0], y_pred[0, 0, :, 1], \"go\")\n",
    "    plt.xlim((-6, 6))\n",
    "    plt.ylim((-5, 5))\n",
    "    plt.show()"
   ]
  },
  {
   "cell_type": "code",
   "execution_count": null,
   "metadata": {},
   "outputs": [],
   "source": [
    "config = LEOConfig(\n",
    "    num_support=args.num_support,\n",
    "    num_timesteps_pred=args.num_timesteps_pred,\n",
    "    input_size=2,  # This is for sine 2D.\n",
    "    encoder_hidden_size=512,\n",
    "    relation_net_hidden_size=512,\n",
    "    z_dim=64,\n",
    "    decoder_hidden_size=512,\n",
    "    f_theta_hidden_size=512,\n",
    ")\n",
    "\n",
    "model = LEO(\n",
    "    args.num_inner_steps,\n",
    "    args.inner_lr,\n",
    "    args.learn_inner_lr,\n",
    "    args.outer_lr,\n",
    "    args.log_dir,\n",
    "    config,\n",
    ")"
   ]
  },
  {
   "cell_type": "code",
   "execution_count": null,
   "metadata": {},
   "outputs": [],
   "source": [
    "writer = tensorboard.SummaryWriter(log_dir=args.log_dir)\n",
    "model, dataloaders = get_model_and_dataloaders(args)"
   ]
  },
  {
   "cell_type": "code",
   "execution_count": null,
   "metadata": {},
   "outputs": [],
   "source": [
    "for i, (task_batch, predictions) in enumerate(model.train(dataloaders[\"train\"], dataloaders[\"val\"], writer, args, True)):\n",
    "    if i % 10 == 0:\n",
    "        _, _, x_query, y_query = task_batch\n",
    "        display.clear_output(wait=True)\n",
    "        plot(x_query, y_query, predictions.detach().cpu().numpy())"
   ]
  }
 ],
 "metadata": {
  "interpreter": {
   "hash": "5526cef0f2beafd42cdc7fc832a51a04d29fb96c99f27e2398157171bc8dd373"
  },
  "kernelspec": {
   "display_name": "Python 3.7.9 64-bit ('.venv': venv)",
   "name": "python3"
  },
  "language_info": {
   "codemirror_mode": {
    "name": "ipython",
    "version": 3
   },
   "file_extension": ".py",
   "mimetype": "text/x-python",
   "name": "python",
   "nbconvert_exporter": "python",
   "pygments_lexer": "ipython3",
   "version": "3.7.9"
  },
  "orig_nbformat": 4
 },
 "nbformat": 4,
 "nbformat_minor": 2
}
